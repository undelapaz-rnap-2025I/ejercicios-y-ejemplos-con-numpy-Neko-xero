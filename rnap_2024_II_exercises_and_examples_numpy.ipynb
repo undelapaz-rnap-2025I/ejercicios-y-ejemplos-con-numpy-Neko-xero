{
  "cells": [
    {
      "cell_type": "markdown",
      "metadata": {
        "id": "z9dathS_lkMu"
      },
      "source": [
        "# Learning and practicing NumPy with examples and exercises"
      ]
    },
    {
      "cell_type": "markdown",
      "metadata": {},
      "source": [
        "# Mi Cuaderno Interactivo: Explorando NumPy y Programación en Python\n",
        "\n",
        "¡Bienvenidos! En este cuaderno, he reunido los puntos clave del taller que realicé, donde abordo:\n",
        "\n",
        "- **Operaciones fundamentales con NumPy**: Para manipular y examinar datos de forma eficiente.\n",
        "\n",
        "- **Ejemplo de descenso de gradiente en regresión lineal**: Para entender cómo se optimizan parámetros en problemas de aprendizaje automático.\n",
        "\n",
        "Mi objetivo es mostrar, paso a paso, cómo aprovechar al máximo NumPy y sentar bases sólidas en programación y análisis de datos.\n",
        "\n",
        "# **1 Ejemplos: NumPy**\n",
        "\n",
        "## 1. Indexación Básica\n",
        "\n",
        "Este ejemplo muestra cómo acceder a un elemento específico de un array unidimensional utilizando su índice."
      ]
    },
    {
      "cell_type": "code",
      "execution_count": 9,
      "metadata": {
        "id": "JrciqVNelazN"
      },
      "outputs": [
        {
          "name": "stdout",
          "output_type": "stream",
          "text": [
            "30\n"
          ]
        }
      ],
      "source": [
        "import numpy as np\n",
        "\n",
        "arr= np.array([10,20,30,40,50])\n",
        "print(arr[2])\n"
      ]
    },
    {
      "cell_type": "markdown",
      "metadata": {},
      "source": [
        "`arr[2]` accede al tercer elemento del array (**índice 2**), que es `30`.\n",
        "## 2.Slicing\n",
        "Este ejemplo demuestra cómo extraer una subsección de un array unidimensional utilizando slicing."
      ]
    },
    {
      "cell_type": "code",
      "execution_count": 12,
      "metadata": {},
      "outputs": [
        {
          "name": "stdout",
          "output_type": "stream",
          "text": [
            "[20 30 40]\n"
          ]
        }
      ],
      "source": [
        "arrr=np.array([10,20,30,40,50])\n",
        "print(arr[1:4])"
      ]
    },
    {
      "cell_type": "markdown",
      "metadata": {},
      "source": [
        "`arr[1:4]` selecciona los elementos desde el **índice 1** hasta el **índice 3** (el **índice 4** no se incluye)."
      ]
    },
    {
      "cell_type": "markdown",
      "metadata": {},
      "source": [
        "## 3.Indexación en Arrays 2D\n",
        "Este ejemplo muestra cómo acceder a un elemento específico en un array bidimensional utilizando índices de fila y columna"
      ]
    },
    {
      "cell_type": "code",
      "execution_count": 14,
      "metadata": {},
      "outputs": [
        {
          "name": "stdout",
          "output_type": "stream",
          "text": [
            "6\n"
          ]
        }
      ],
      "source": [
        "arr= np.array([[1,2,3],[4,5,6],[7,8,9]])\n",
        "print(arr[1,2])"
      ]
    },
    {
      "cell_type": "markdown",
      "metadata": {},
      "source": [
        "`arr[1, 2]` accede al elemento en la segunda fila (**índice 1**) y tercera columna (**índice 2**), que es `6`.\n",
        "## 4.Slicing en Arrays 2D\n",
        "Este ejemplo muestra cómo extraer una submatriz de un array bidimensional utilizando slicing."
      ]
    },
    {
      "cell_type": "code",
      "execution_count": 16,
      "metadata": {},
      "outputs": [
        {
          "name": "stdout",
          "output_type": "stream",
          "text": [
            "[[2 3]\n",
            " [5 6]]\n"
          ]
        }
      ],
      "source": [
        "arr=np.array([[1,2,3],[4,5,6,],[7,8,9,]])\n",
        "print(arr[:2,1:])"
      ]
    },
    {
      "cell_type": "markdown",
      "metadata": {},
      "source": [
        "`arr[:2, 1:]` selecciona una submatriz utilizando slicing:\n",
        "- `:2` (para las filas): Selecciona las filas desde el inicio (**índice 0**) hasta la fila con **índice 1** (el **índice 2** no se incluye). Esto selecciona las dos primeras filas.\n",
        "- `1:` (para las columnas): Selecciona las columnas desde el **índice 1** hasta el final. Esto selecciona las columnas 2 y 3.\n",
        " #### **resultado:** \n",
        "\n",
        " $$\n",
        "\\begin{bmatrix}\n",
        "2 & 3  \\\\\n",
        "5 & 6 \n",
        "\\end{bmatrix}\n",
        "$$\n",
        "\n",
        "## 5.Indexación en Tensores 3D\n",
        "Este ejemplo muestra cómo acceder a elementos específicos y submatrices en un tensor tridimensional."
      ]
    },
    {
      "cell_type": "code",
      "execution_count": 17,
      "metadata": {},
      "outputs": [
        {
          "name": "stdout",
          "output_type": "stream",
          "text": [
            "9\n"
          ]
        }
      ],
      "source": [
        "tensor=np.array([[[1,2,3],[4,5,6,]],[[7,8,9],[13,11,12]],[[13,14,15],[16,17,18]]])\n",
        "print(tensor[1,0,2])"
      ]
    },
    {
      "cell_type": "markdown",
      "metadata": {},
      "source": [
        "- `tensor[1, 0, 2]` accede al elemento en la segunda matriz (**índice 1**), primera fila (**índice 0**), y tercera columna (**índice 2**), que es `9`.\n",
        "\n"
      ]
    },
    {
      "cell_type": "code",
      "execution_count": 18,
      "metadata": {},
      "outputs": [
        {
          "name": "stdout",
          "output_type": "stream",
          "text": [
            "[[ 7  8  9]\n",
            " [13 11 12]]\n"
          ]
        }
      ],
      "source": [
        "print(tensor[1])"
      ]
    },
    {
      "cell_type": "markdown",
      "metadata": {},
      "source": [
        "- `tensor[1]` selecciona toda la segunda matriz (**índice 1**), que es \n",
        "$$\n",
        "\\begin{bmatrix}\n",
        "7 & 8 & 9 \\\\\n",
        "13 & 11 & 12\n",
        "\\end{bmatrix}\n",
        "$$\n",
        "## 6.Slicing en Tensores 3D\n",
        "Este ejemplo muestra cómo extraer submatrices de un tensor tridimensional utilizando slicing.\n"
      ]
    },
    {
      "cell_type": "code",
      "execution_count": 33,
      "metadata": {},
      "outputs": [
        {
          "name": "stdout",
          "output_type": "stream",
          "text": [
            "[[ 9 10 11]\n",
            " [12 13 14]\n",
            " [15 16 17]]\n"
          ]
        }
      ],
      "source": [
        "tensor=np.arange(27).reshape(3,3,3)\n",
        "print(tensor[1])\n",
        "\n",
        "\n"
      ]
    },
    {
      "cell_type": "markdown",
      "metadata": {},
      "source": [
        "- `np.arange(27)` genera una lista de 27 numeros\n",
        "- `.reshape(3,3,3)` convierte esa lista en un tensor, lo que tenemos son 3 matrices, cada una con 3 filas y 3 columnas.\n",
        "- `tensor[1]` selecciona toda la segunda matriz (**índice 1**).\n"
      ]
    },
    {
      "cell_type": "code",
      "execution_count": 21,
      "metadata": {},
      "outputs": [
        {
          "name": "stdout",
          "output_type": "stream",
          "text": [
            "[[ 3  4  5]\n",
            " [12 13 14]\n",
            " [21 22 23]]\n"
          ]
        }
      ],
      "source": [
        "print(tensor[:,1,:])"
      ]
    },
    {
      "cell_type": "markdown",
      "metadata": {},
      "source": [
        "- `tensor[:, 1, :]` selecciona la segunda fila (**índice 1**) de todas las matrices, formando una submatriz 3x3, que es \n",
        "\\begin{bmatrix}\n",
        "3& 4 & 5 \\\\\n",
        "12 & 13 & 14\\\\\n",
        "21 & 22 & 23\n",
        "\\end{bmatrix}\n",
        "$$"
      ]
    },
    {
      "cell_type": "code",
      "execution_count": 22,
      "metadata": {},
      "outputs": [
        {
          "name": "stdout",
          "output_type": "stream",
          "text": [
            "[[ 2  5  8]\n",
            " [11 14 17]\n",
            " [20 23 26]]\n"
          ]
        }
      ],
      "source": [
        "print(tensor[:,:,2])"
      ]
    },
    {
      "cell_type": "markdown",
      "metadata": {},
      "source": [
        "- `tensor[:, :, 1]` selecciona la tercera columna (**índice 2**) de todas las matrices, formando una submatriz 3x3, que es \n",
        "$$\n",
        "\\begin{bmatrix}\n",
        "2 & 5 & 8 \\\\\n",
        "11 & 14 & 17\\\\\n",
        "20 & 23 & 26\n",
        "\\end{bmatrix}\n",
        "$$"
      ]
    },
    {
      "cell_type": "markdown",
      "metadata": {},
      "source": [
        "## 7. 4D Tensor Indexing\n",
        "En este ejemplo se crea un tensor de 4 dimensiones y se accede a elementos y bloques específicos dentro de él."
      ]
    },
    {
      "cell_type": "code",
      "execution_count": 35,
      "metadata": {},
      "outputs": [
        {
          "name": "stdout",
          "output_type": "stream",
          "text": [
            "43\n"
          ]
        }
      ],
      "source": [
        "tensor=np.arange(48).reshape(2,3,2,4)\n",
        "print(tensor[1,2,0,3])\n"
      ]
    },
    {
      "cell_type": "markdown",
      "metadata": {},
      "source": [
        "- `np.arange(48)` genera una lista de numeros del 0 al 47\n",
        "- `reshape(2,3,2,4)` le da forma de tensor de 4 dimensiones: 2 bloques, 3 filas, 2 columnas y 4 valores por fila\n",
        "- `tensor[1, 2, 0, 3]` accede al valor ubicado en el segundo bloque, tercera fila, primera subfila, cuarta posición → da como resultado `43`."
      ]
    },
    {
      "cell_type": "code",
      "execution_count": 36,
      "metadata": {},
      "outputs": [
        {
          "name": "stdout",
          "output_type": "stream",
          "text": [
            "[[40 41 42 43]\n",
            " [44 45 46 47]]\n"
          ]
        }
      ],
      "source": [
        "print(tensor[1,2])"
      ]
    },
    {
      "cell_type": "markdown",
      "metadata": {},
      "source": [
        "- `tensor[1, 2]` accede a todo el bloque en la posición [1, 2], devolviendo una matriz de **2x4**.\n",
        "\n",
        "\\begin{bmatrix}\n",
        "40 & 41 & 42 & 43 \\\\\n",
        "44 & 45 & 46 & 47\n",
        "\\end{bmatrix}\n",
        "$$"
      ]
    },
    {
      "cell_type": "markdown",
      "metadata": {},
      "source": [
        "## 8.Slicing a 4D Tensor\n",
        "En este ejemplo se realiza slicing sobre un tensor 4D para obtener subconjuntos a lo largo de diferentes dimensiones."
      ]
    },
    {
      "cell_type": "code",
      "execution_count": 58,
      "metadata": {},
      "outputs": [
        {
          "name": "stdout",
          "output_type": "stream",
          "text": [
            "[[[24 25 26 27]\n",
            "  [28 29 30 31]]\n",
            "\n",
            " [[32 33 34 35]\n",
            "  [36 37 38 39]]\n",
            "\n",
            " [[40 41 42 43]\n",
            "  [44 45 46 47]]]\n"
          ]
        }
      ],
      "source": [
        "tensor=np.arange(48).reshape(2,3,2,4)\n",
        "print(tensor[1])\n"
      ]
    },
    {
      "cell_type": "markdown",
      "metadata": {},
      "source": [
        "- `tensor[1]` selecciona el segundo bloque completo (de forma 3x2x4).\n",
        "$$\n",
        "\\left[\n",
        "\\begin{array}{c}\n",
        "\\begin{bmatrix}\n",
        "24 & 25 & 26 & 27 \\\\\n",
        "28 & 29 & 30 & 31\n",
        "\\end{bmatrix} \\\\\n",
        "\\\\\n",
        "\\begin{bmatrix}\n",
        "32 & 33 & 34 & 35 \\\\\n",
        "36 & 37 & 38 & 39\n",
        "\\end{bmatrix} \\\\\n",
        "\\\\\n",
        "\\begin{bmatrix}\n",
        "40 & 41 & 42 & 43 \\\\\n",
        "44 & 45 & 46 & 47\n",
        "\\end{bmatrix}\n",
        "\\end{array}\n",
        "\\right]\n",
        "$$\n",
        "\n",
        "\n",
        "\n"
      ]
    },
    {
      "cell_type": "code",
      "execution_count": 41,
      "metadata": {},
      "outputs": [
        {
          "name": "stdout",
          "output_type": "stream",
          "text": [
            "[[[16 17 18 19]\n",
            "  [20 21 22 23]]\n",
            "\n",
            " [[40 41 42 43]\n",
            "  [44 45 46 47]]]\n"
          ]
        }
      ],
      "source": [
        "print(tensor[:,2,:,:])"
      ]
    },
    {
      "cell_type": "markdown",
      "metadata": {},
      "source": [
        "- `tensor[:, :, 0, :]` selecciona la primera subfila (dimensión 3) de cada fila de cada bloque → forma final **2x3x4**.\n",
        "$$\n",
        "\\left[\n",
        "\\begin{array}{c}\n",
        "\\begin{bmatrix}\n",
        "16 & 17 & 18 & 19 \\\\\n",
        "20 & 21 & 22 & 23\n",
        "\\end{bmatrix} \\\\\n",
        "\\\\\n",
        "\\begin{bmatrix}\n",
        "40 & 41 & 42 & 43 \\\\\n",
        "44 & 45 & 46 & 47\n",
        "\\end{bmatrix}\n",
        "\\end{array}\n",
        "\\right]\n",
        "$$"
      ]
    },
    {
      "cell_type": "markdown",
      "metadata": {},
      "source": [
        "## 9. Matrix Addition\n",
        "En este ejemplo se suman dos matrices del mismo tamaño elemento por elemento."
      ]
    },
    {
      "cell_type": "code",
      "execution_count": 42,
      "metadata": {},
      "outputs": [
        {
          "name": "stdout",
          "output_type": "stream",
          "text": [
            "[[ 6  8]\n",
            " [10 12]]\n"
          ]
        }
      ],
      "source": [
        "A=np.array([[1,2],[3,4]])\n",
        "B=np.array([[5,6],[7,8]])\n",
        "print(A+B)"
      ]
    },
    {
      "cell_type": "markdown",
      "metadata": {},
      "source": [
        "- Se definen dos matrices 2x2: **A** y **B**.\n",
        "\n",
        "- La suma A + B suma cada elemento correspondiente:\n",
        "\n",
        "`[[1+5, 2+6], [3+7, 4+8]] → [[6, 8], [10, 12]]`\n",
        "\n",
        "- El resultado es una matriz del mismo tamaño con los valores sumados."
      ]
    },
    {
      "cell_type": "markdown",
      "metadata": {},
      "source": [
        "## 10. Matrix Multiplication\n",
        "En este ejemplo se realiza la multiplicación matricial (producto punto) entre dos matrices compatibles."
      ]
    },
    {
      "cell_type": "code",
      "execution_count": 44,
      "metadata": {},
      "outputs": [
        {
          "name": "stdout",
          "output_type": "stream",
          "text": [
            "[[19 22]\n",
            " [43 50]]\n"
          ]
        }
      ],
      "source": [
        "A=np.array([[1,2],[3,4]])\n",
        "B=np.array([[5,6],[7,8]])\n",
        "result=np.dot(A,B)\n",
        "print(result)"
      ]
    },
    {
      "cell_type": "markdown",
      "metadata": {},
      "source": [
        "- `np.dot(A, B)` aplica el producto punto entre matrices:\n",
        "\n",
        "La forma de ambas es 2x2, por lo que son compatibles.\n",
        "\n",
        "Resultado:\n",
        "\\begin{bmatrix}\n",
        "19 & 22  \\\\\n",
        "43 & 50\n",
        "\\end{bmatrix}\n",
        "$$"
      ]
    },
    {
      "cell_type": "markdown",
      "metadata": {},
      "source": [
        "## 11. Transpose of a Matrix\n",
        "En este ejemplo se obtiene la transpuesta de una matriz, intercambiando filas por columnas."
      ]
    },
    {
      "cell_type": "code",
      "execution_count": 45,
      "metadata": {},
      "outputs": [
        {
          "name": "stdout",
          "output_type": "stream",
          "text": [
            "[[1 3]\n",
            " [2 4]]\n"
          ]
        }
      ],
      "source": [
        "A=np.array([[1,2],[3,4]])\n",
        "result=np.transpose(A)\n",
        "print(result)"
      ]
    },
    {
      "cell_type": "markdown",
      "metadata": {},
      "source": [
        "- `np.transpose(A)` invierte las filas y columnas de la matriz **A**.\n",
        "\n",
        "Original:\n",
        "$$\n",
        "\\begin{bmatrix}\n",
        "1 & 2 \\\\\n",
        "3 & 4 \n",
        "\\end{bmatrix}\n",
        "$$\n",
        "\n",
        "Transpuesta:\n",
        "$$\n",
        "\\begin{bmatrix}\n",
        "1 & 3 \\\\\n",
        "2 & 4 \n",
        "\\end{bmatrix}\n",
        "$$\n"
      ]
    },
    {
      "cell_type": "markdown",
      "metadata": {},
      "source": [
        "## 12. Matrix Determinant and Inverse\n",
        "En este ejemplo se calcula el determinante y la inversa de una matriz cuadrada."
      ]
    },
    {
      "cell_type": "code",
      "execution_count": 48,
      "metadata": {},
      "outputs": [
        {
          "name": "stdout",
          "output_type": "stream",
          "text": [
            "Determinant: -2.0000000000000004\n",
            "Inverse:  [[-2.   1. ]\n",
            " [ 1.5 -0.5]]\n"
          ]
        }
      ],
      "source": [
        "A=np.array([[1,2],[3,4]])\n",
        "det=np.linalg.det(A)\n",
        "inverse=np.linalg.inv(A)\n",
        "print('Determinant:',det)\n",
        "print('Inverse: ',inverse)"
      ]
    },
    {
      "cell_type": "markdown",
      "metadata": {},
      "source": [
        "- `np.linalg.det(A)` calcula el determinante de **A**:\n",
        "`1×4 - 2×3 = -2`\n",
        "\n",
        "- `np.linalg.inv(A)` calcula la matriz inversa\n",
        "\n",
        "Resultado:\n",
        "$$\n",
        "\\begin{bmatrix}\n",
        "-2 & 1 \\\\\n",
        "1.5 & -0.5 \n",
        "\\end{bmatrix}\n",
        "$$"
      ]
    },
    {
      "cell_type": "markdown",
      "metadata": {},
      "source": [
        "## 13. Eigenvalues and Eigenvectors\n",
        "En este ejemplo se calculan los valores propios **(**eigenvalues**) y vectores propios (**eigenvectors**) de una matriz cuadrada."
      ]
    },
    {
      "cell_type": "code",
      "execution_count": 49,
      "metadata": {},
      "outputs": [
        {
          "name": "stdout",
          "output_type": "stream",
          "text": [
            "Eigenvalues: [2.00000002 1.99999998]\n",
            "Eigenvectors: [[-0.70710677 -0.70710679]\n",
            " [ 0.70710679  0.70710677]]\n"
          ]
        }
      ],
      "source": [
        "A=np.array([[1,-1],[1,3]])\n",
        "aigenvalues, eigenvectors = np.linalg.eig(A)\n",
        "print('Eigenvalues:', aigenvalues)\n",
        "print('Eigenvectors:', eigenvectors)"
      ]
    },
    {
      "cell_type": "markdown",
      "metadata": {},
      "source": [
        "- `np.linalg.eig(A)`devuelve:\n",
        "\n",
        "- `eigenvalues`: una lista con los valores propios λ.\n",
        "\n",
        "- `eigenvectors`: una matriz donde cada columna es el vector propio correspondiente a cada \n",
        "𝜆."
      ]
    },
    {
      "cell_type": "markdown",
      "metadata": {},
      "source": [
        "## 14. Solving Linear Equations\n",
        "En este ejemplo se resuelve un sistema de ecuaciones lineales de la forma $$ Ax= b $$."
      ]
    },
    {
      "cell_type": "code",
      "execution_count": 50,
      "metadata": {},
      "outputs": [
        {
          "name": "stdout",
          "output_type": "stream",
          "text": [
            "Solution: [1. 1.]\n"
          ]
        }
      ],
      "source": [
        "A=np.array([[2,1],[1,1]])\n",
        "b=np.array([3,2])\n",
        "solution=np.linalg.solve(A,b)\n",
        "print('Solution:',solution)"
      ]
    },
    {
      "cell_type": "markdown",
      "metadata": {},
      "source": [
        "- Se tiene un sistema de ecuaciones lineales:\n",
        "\n",
        "$$\n",
        "\\begin{cases}\n",
        "2x + y = 3 \\\\\n",
        "x + y = 2\n",
        "\\end{cases}\n",
        "$$\n",
        "\n",
        "- `np.linalg.solve(A, b)` resuelve este sistema usando álgebra lineal.\n",
        "\n",
        "- El resultado es el valor de \\( x \\) que satisface ambas ecuaciones:\n",
        "\n",
        "$$\n",
        "x = \\begin{bmatrix} 1 \\\\ 1 \\end{bmatrix}\n",
        "$$\n"
      ]
    },
    {
      "cell_type": "markdown",
      "metadata": {},
      "source": [
        "## 15. Gradient Descent Optimization\n",
        "En este ejemplo se aplica el algoritmo de descenso del gradiente para ajustar parámetros y minimizar el error cuadrático medio (MSE) de un modelo de regresión lineal."
      ]
    },
    {
      "cell_type": "code",
      "execution_count": 51,
      "metadata": {},
      "outputs": [],
      "source": [
        "np.random.seed(0)\n",
        "x=2*np.random.rand(100,1)\n",
        "y=4+3*x+np.random.randn(100,1)"
      ]
    },
    {
      "cell_type": "markdown",
      "metadata": {},
      "source": [
        "- Se generan 100 datos aleatorios para x entre 0 y 2.\n",
        "\n",
        "- Se genera `y` como una línea recta: $$y=4+3x+ruido$$\n",
        "\n",
        "\n",
        "- El ruido se agrega para simular variabilidad real."
      ]
    },
    {
      "cell_type": "code",
      "execution_count": 52,
      "metadata": {},
      "outputs": [],
      "source": [
        "x_b=np.c_[np.ones((100,1)),x]\n"
      ]
    },
    {
      "cell_type": "markdown",
      "metadata": {},
      "source": [
        "- Se agrega una columna de unos a `x` para incluir el término independiente (intercepto) en el modelo.\n",
        "\n",
        "- Resultado: una matriz de forma (100, 2) donde la primera columna es 1 y la segunda es `x`."
      ]
    },
    {
      "cell_type": "code",
      "execution_count": 53,
      "metadata": {},
      "outputs": [],
      "source": [
        "learning_rate=0.1\n",
        "n_iterations=1000"
      ]
    },
    {
      "cell_type": "markdown",
      "metadata": {},
      "source": [
        "- `learning_rate`: tasa de aprendizaje.\n",
        "\n",
        "- `n_iterations`: número de iteraciones del ciclo de entrenamiento."
      ]
    },
    {
      "cell_type": "code",
      "execution_count": 55,
      "metadata": {},
      "outputs": [],
      "source": [
        "theta = np.random.randn(2, 1)"
      ]
    },
    {
      "cell_type": "markdown",
      "metadata": {},
      "source": [
        "- Se inicializa aleatoriamente el vector de parámetros \n",
        "**theta** con forma (2, 1)."
      ]
    },
    {
      "cell_type": "code",
      "execution_count": 57,
      "metadata": {},
      "outputs": [
        {
          "name": "stdout",
          "output_type": "stream",
          "text": [
            "Final theta: [[4.22215108]\n",
            " [2.96846751]]\n"
          ]
        }
      ],
      "source": [
        "for iteration in range(n_iterations):\n",
        " gradients = 2 / 100 * x_b.T.dot(x_b.dot(theta)- y)\n",
        " theta = theta- learning_rate * gradients\n",
        "print(\"Final theta:\", theta)"
      ]
    },
    {
      "cell_type": "markdown",
      "metadata": {},
      "source": [
        "\n",
        "- Calcula el gradiente del error cuadrático medio.\n",
        "\n",
        "- Actualiza los parámetros theta moviéndose en la dirección opuesta al gradiente.\n",
        "\n",
        "- Se repite 1000 veces.\n",
        "- El modelo aprendió una línea recta cercana a:\n",
        "$$y=4.22+2.97x$$"
      ]
    },
    {
      "cell_type": "markdown",
      "metadata": {},
      "source": [
        "# **2.Examples:python functions and classes**"
      ]
    },
    {
      "cell_type": "markdown",
      "metadata": {},
      "source": [
        "## 1.Simple Function\n",
        " Esta función genera un saludo personalizado al recibir un nombre como argumento."
      ]
    },
    {
      "cell_type": "code",
      "execution_count": 1,
      "metadata": {},
      "outputs": [
        {
          "name": "stdout",
          "output_type": "stream",
          "text": [
            "Hello, Ana!\n"
          ]
        }
      ],
      "source": [
        "def greet(name):\n",
        "    return \"Hello, \" + name + \"!\"\n",
        "\n",
        "print(greet(\"Ana\"))  # Output: Hello, Ana!"
      ]
    },
    {
      "cell_type": "markdown",
      "metadata": {},
      "source": [
        "- La función `greet` toma un parámetro `name`.\n",
        "\n",
        "- Retorna una cadena que concatena `\"Hello, \"` con el nombre y un signo de exclamación.\n",
        "\n",
        "- Al ejecutar` greet(\"Ana\")`, el resultado es `\"Hello, Ana!\"`."
      ]
    },
    {
      "cell_type": "markdown",
      "metadata": {},
      "source": [
        "## 2. Function with Parameters and Return\n",
        " Esta función suma dos números y devuelve el resultado."
      ]
    },
    {
      "cell_type": "code",
      "execution_count": 2,
      "metadata": {},
      "outputs": [
        {
          "name": "stdout",
          "output_type": "stream",
          "text": [
            "12\n"
          ]
        }
      ],
      "source": [
        "def add_numbers(a,b):\n",
        "    sum= a+b\n",
        "    return sum\n",
        "result=add_numbers(5,7)\n",
        "print(result)"
      ]
    },
    {
      "cell_type": "markdown",
      "metadata": {},
      "source": [
        "- `add_numbers` recibe dos parámetros `a` y `b`.\n",
        "\n",
        "- Suma ambos valores y almacena el resultado en la variable `sum`.\n",
        "\n",
        "- Devuelve el valor de `sum`.\n",
        "\n",
        "- En este caso, `5 + 7 = 12`, por lo que el resultado es `12`.\n",
        "\n"
      ]
    },
    {
      "cell_type": "markdown",
      "metadata": {},
      "source": [
        "## 3. Function with Default Parameter\n",
        " Esta función eleva un número (`base`) a una potencia (`exponent`). Si no se proporciona el exponente, se utiliza 2 por defecto.\n",
        "\n"
      ]
    },
    {
      "cell_type": "code",
      "execution_count": 3,
      "metadata": {},
      "outputs": [
        {
          "name": "stdout",
          "output_type": "stream",
          "text": [
            "9\n",
            "8\n"
          ]
        }
      ],
      "source": [
        "def power(base, exponent=2):\n",
        "    return base ** exponent\n",
        "print(power(3))  # Output: 9 (3^2)\n",
        "print(power(2,3))"
      ]
    },
    {
      "cell_type": "markdown",
      "metadata": {},
      "source": [
        "- Si solo se pasa un valor (`3`), se eleva al cuadrado por defecto: `3 ** 2 = 9`.\n",
        "\n",
        "- Si se pasan ambos valores (`2` y `3`), se calcula `2 ** 3 = 8`."
      ]
    },
    {
      "cell_type": "markdown",
      "metadata": {},
      "source": [
        "## 4. Function with Multiple Returns\n",
        " Esta función recibe una lista de números y devuelve el mínimo y el máximo.\n"
      ]
    },
    {
      "cell_type": "code",
      "execution_count": null,
      "metadata": {},
      "outputs": [
        {
          "name": "stdout",
          "output_type": "stream",
          "text": [
            "2 9\n"
          ]
        }
      ],
      "source": [
        "def min_max(numbers):\n",
        "    \n",
        "    return min(numbers),max(numbers)\n",
        "nums=[4,9,2,7,5]\n",
        "minimum, maximum = min_max(nums)\n",
        "print(minimum, maximum)  # Output: (2, 9)"
      ]
    },
    {
      "cell_type": "markdown",
      "metadata": {},
      "source": [
        "- La función usa `min()` y `max()` para encontrar el valor más bajo y más alto de la lista.\n",
        "\n",
        "- Devuelve ambos valores como una tupla.\n",
        "\n",
        "- En este caso, el mínimo es `2` y el máximo es `9`."
      ]
    },
    {
      "cell_type": "markdown",
      "metadata": {},
      "source": [
        "##  5. Function with Docstring\n",
        " Esta función calcula el área de un rectángulo usando su largo y ancho, e incluye una descripción detallada en el docstring."
      ]
    },
    {
      "cell_type": "code",
      "execution_count": 9,
      "metadata": {},
      "outputs": [],
      "source": [
        "def area_of_rectangle(length, width):\n",
        " \n",
        " \"\"\"\n",
        " Calculates the area of a rectangle.\n",
        " Args:\n",
        " length (float): The length of the rectangle.\n",
        " width (float): The width of the rectangle.\n",
        " Returns:\n",
        " float: The area of the rectangle.\n",
        " \"\"\"\n",
        " return length * width"
      ]
    },
    {
      "cell_type": "markdown",
      "metadata": {},
      "source": [
        "- El docstring explica qué hace la función, qué argumentos recibe y qué retorna.\n",
        "\n",
        "- Multiplica `length` por `width` para calcular el área."
      ]
    },
    {
      "cell_type": "markdown",
      "metadata": {},
      "source": [
        "## 6. Creación de una clase simple: `Dog`\n",
        "Esta clase representa un perro con nombre y edad, y tiene un método para ladrar."
      ]
    },
    {
      "cell_type": "code",
      "execution_count": 11,
      "metadata": {},
      "outputs": [
        {
          "name": "stdout",
          "output_type": "stream",
          "text": [
            "Buddy is barking!\n"
          ]
        }
      ],
      "source": [
        "class Dog:\n",
        " def __init__(self, name, age):\n",
        "\n",
        "  \n",
        "    self.name = name\n",
        "    self.age = age\n",
        " def bark(self):\n",
        "   \n",
        "    print(f\"{self.name} is barking!\")\n",
        " # Create an instance of the Dog class\n",
        "dog1 = Dog(\"Buddy\", 3)\n",
        "dog1.bark() # Output: Buddy is barking!"
      ]
    },
    {
      "cell_type": "markdown",
      "metadata": {},
      "source": [
        "- `__init__` es el constructor que inicializa los atributos `name` y `age`.\n",
        "\n",
        "- El método `bark `imprime un mensaje indicando que el perro está ladrando.\n",
        "\n",
        "- Al crear un perro llamado `\"Buddy\"` de 3 años y llamar `bark()`, se imprime` \"Buddy is barking!\"`."
      ]
    },
    {
      "cell_type": "markdown",
      "metadata": {},
      "source": [
        "## 7. Agregar métodos y atributos: Student\n",
        " Esta clase representa a un estudiante que puede tener una lista de calificaciones y calcular el promedio."
      ]
    },
    {
      "cell_type": "code",
      "execution_count": 12,
      "metadata": {},
      "outputs": [
        {
          "name": "stdout",
          "output_type": "stream",
          "text": [
            "Alice's average grade: 88.5\n"
          ]
        }
      ],
      "source": [
        "class Student:\n",
        "    def __init__(self, name, age):\n",
        "        self.name = name\n",
        "        self.age = age\n",
        "        self.grades = []\n",
        "\n",
        "    def add_grade(self, grade):\n",
        "        self.grades.append(grade)\n",
        "\n",
        "    def get_average_grade(self):\n",
        "        return sum(self.grades) / len(self.grades)\n",
        "\n",
        "# Crear una instancia de Student y agregar calificaciones\n",
        "student1 = Student(\"Alice\", 18)\n",
        "student1.add_grade(85)\n",
        "student1.add_grade(92)\n",
        "\n",
        "average_grade = student1.get_average_grade()\n",
        "print(f\"{student1.name}'s average grade: {average_grade}\")"
      ]
    },
    {
      "cell_type": "markdown",
      "metadata": {},
      "source": [
        "- La clase tiene atributos `name`, `age` y `grades`.\n",
        "\n",
        "- `add_grade` agrega una calificación a la lista.\n",
        "\n",
        "- `get_average_grade` calcula el promedio de calificaciones.\n",
        "\n",
        "- El estudiante `\"Alice\"` obtiene un promedio de `(85 + 92) / 2 = 88.5`."
      ]
    },
    {
      "cell_type": "markdown",
      "metadata": {},
      "source": [
        "## 8. Herencia en clases\n",
        "Esta sección demuestra cómo una clase puede heredar de otra para compartir y extender funcionalidades."
      ]
    },
    {
      "cell_type": "code",
      "execution_count": 13,
      "metadata": {},
      "outputs": [
        {
          "name": "stdout",
          "output_type": "stream",
          "text": [
            "Whiskers says Meow!\n",
            "Buddy says Woof!\n"
          ]
        }
      ],
      "source": [
        "class Animal:\n",
        "    def __init__(self, name):\n",
        "        self.name = name\n",
        "\n",
        "    def speak(self):\n",
        "        pass  # Placeholder for subclasses to override\n",
        "\n",
        "class Cat(Animal):\n",
        "    def speak(self):\n",
        "        print(f\"{self.name} says Meow!\")\n",
        "\n",
        "class Dog(Animal):\n",
        "    def speak(self):\n",
        "        print(f\"{self.name} says Woof!\")\n",
        "\n",
        "# Crear instancias de Cat y Dog\n",
        "cat = Cat(\"Whiskers\")\n",
        "dog = Dog(\"Buddy\")\n",
        "\n",
        "cat.speak()  # Output: Whiskers says Meow!\n",
        "dog.speak()  # Output: Buddy says Woof!\n"
      ]
    },
    {
      "cell_type": "markdown",
      "metadata": {},
      "source": [
        "- `Animal` es la clase base con un método `speak` vacío.\n",
        "\n",
        "- `Cat` y `Dog` son subclases que sobrescriben el método `speak`.\n",
        "\n",
        "- Cada clase imprime un sonido característico según el tipo de animal."
      ]
    }
  ],
  "metadata": {
    "colab": {
      "provenance": []
    },
    "kernelspec": {
      "display_name": "redes_neuronales",
      "language": "python",
      "name": "python3"
    },
    "language_info": {
      "codemirror_mode": {
        "name": "ipython",
        "version": 3
      },
      "file_extension": ".py",
      "mimetype": "text/x-python",
      "name": "python",
      "nbconvert_exporter": "python",
      "pygments_lexer": "ipython3",
      "version": "3.13.2"
    }
  },
  "nbformat": 4,
  "nbformat_minor": 0
}
