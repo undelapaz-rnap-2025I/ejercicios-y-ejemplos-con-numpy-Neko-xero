{
  "cells": [
    {
      "cell_type": "markdown",
      "metadata": {
        "id": "z9dathS_lkMu"
      },
      "source": [
        "# Learning and practicing NumPy with examples and exercises"
      ]
    },
    {
      "cell_type": "markdown",
      "metadata": {},
      "source": [
        "# Mi Cuaderno Interactivo: Explorando NumPy y Programación en Python\n",
        "\n",
        "¡Bienvenidos! En este cuaderno, he reunido los puntos clave del taller que realicé, donde abordo:\n",
        "\n",
        "- **Operaciones fundamentales con NumPy**: Para manipular y examinar datos de forma eficiente.\n",
        "\n",
        "- **Ejemplo de descenso de gradiente en regresión lineal**: Para entender cómo se optimizan parámetros en problemas de aprendizaje automático.\n",
        "\n",
        "Mi objetivo es mostrar, paso a paso, cómo aprovechar al máximo NumPy y sentar bases sólidas en programación y análisis de datos.\n",
        "\n",
        "# Ejemplos: NumPy\n",
        "\n",
        "## 1. Indexación Básica\n",
        "\n",
        "Este ejemplo muestra cómo acceder a un elemento específico de un array unidimensional utilizando su índice."
      ]
    },
    {
      "cell_type": "code",
      "execution_count": 9,
      "metadata": {
        "id": "JrciqVNelazN"
      },
      "outputs": [
        {
          "name": "stdout",
          "output_type": "stream",
          "text": [
            "30\n"
          ]
        }
      ],
      "source": [
        "import numpy as np\n",
        "\n",
        "arr= np.array([10,20,30,40,50])\n",
        "print(arr[2])\n"
      ]
    },
    {
      "cell_type": "markdown",
      "metadata": {},
      "source": [
        "`arr[2]` accede al tercer elemento del array (**índice 2**), que es `30`.\n",
        "## 2.Slicing\n",
        "Este ejemplo demuestra cómo extraer una subsección de un array unidimensional utilizando slicing."
      ]
    },
    {
      "cell_type": "code",
      "execution_count": 12,
      "metadata": {},
      "outputs": [
        {
          "name": "stdout",
          "output_type": "stream",
          "text": [
            "[20 30 40]\n"
          ]
        }
      ],
      "source": [
        "arrr=np.array([10,20,30,40,50])\n",
        "print(arr[1:4])"
      ]
    },
    {
      "cell_type": "markdown",
      "metadata": {},
      "source": [
        "`arr[1:4]` selecciona los elementos desde el **índice 1** hasta el **índice 3** (el **índice 4** no se incluye)."
      ]
    },
    {
      "cell_type": "markdown",
      "metadata": {},
      "source": [
        "## 3.Indexación en Arrays 2D\n",
        "Este ejemplo muestra cómo acceder a un elemento específico en un array bidimensional utilizando índices de fila y columna"
      ]
    },
    {
      "cell_type": "code",
      "execution_count": null,
      "metadata": {},
      "outputs": [],
      "source": []
    },
    {
      "cell_type": "markdown",
      "metadata": {},
      "source": [
        "`arr[1, 2]` accede al elemento en la segunda fila (**índice 1**) y tercera columna (**índice 2**), que es `6`.\n",
        "# 4.Slicing en Arrays 2D\n",
        "Este ejemplo muestra cómo extraer una submatriz de un array bidimensional utilizando slicing."
      ]
    },
    {
      "cell_type": "code",
      "execution_count": null,
      "metadata": {},
      "outputs": [],
      "source": []
    },
    {
      "cell_type": "markdown",
      "metadata": {},
      "source": [
        "`arr[1:, 1:]` selecciona todas las filas desde la segunda (**índice 1**) y todas las columnas desde la segunda (**índice 1**).\n",
        "# 5.Indexación en Tensores 3D\n",
        "Este ejemplo muestra cómo acceder a elementos específicos y submatrices en un tensor tridimensional."
      ]
    },
    {
      "cell_type": "code",
      "execution_count": null,
      "metadata": {},
      "outputs": [],
      "source": []
    },
    {
      "cell_type": "markdown",
      "metadata": {},
      "source": [
        "- `tensor[1, 0, 2]` accede al elemento en la segunda matriz (**índice 1**), primera fila (**índice 0**), y tercera columna (**índice 2**), que es `9`.\n",
        "- `tensor[1]` selecciona toda la segunda matriz (**índice 1**).\n",
        "# 6.Slicing en Tensores 3D\n",
        "Este ejemplo muestra cómo extraer submatrices de un tensor tridimensional utilizando slicing.\n"
      ]
    },
    {
      "cell_type": "code",
      "execution_count": null,
      "metadata": {},
      "outputs": [],
      "source": []
    },
    {
      "cell_type": "markdown",
      "metadata": {},
      "source": [
        "- `tensor[1]` selecciona toda la segunda matriz (**índice 1**).\n",
        "- `tensor[:, 1, :]` selecciona la segunda fila (**índice 1**) de todas las matrices, formando una submatriz 3x3."
      ]
    },
    {
      "cell_type": "markdown",
      "metadata": {},
      "source": []
    }
  ],
  "metadata": {
    "colab": {
      "provenance": []
    },
    "kernelspec": {
      "display_name": "redes_neuronales",
      "language": "python",
      "name": "python3"
    },
    "language_info": {
      "codemirror_mode": {
        "name": "ipython",
        "version": 3
      },
      "file_extension": ".py",
      "mimetype": "text/x-python",
      "name": "python",
      "nbconvert_exporter": "python",
      "pygments_lexer": "ipython3",
      "version": "3.13.2"
    }
  },
  "nbformat": 4,
  "nbformat_minor": 0
}
